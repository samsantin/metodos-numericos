{
 "cells": [
  {
   "cell_type": "markdown",
   "metadata": {},
   "source": [
    "# Laboratorio 4-02: Método de la potencia inversa\n",
    "\n",
    "Samantha Sánchez Tinoco"
   ]
  },
  {
   "cell_type": "code",
   "execution_count": 1,
   "metadata": {},
   "outputs": [],
   "source": [
    "import numpy as np"
   ]
  },
  {
   "cell_type": "code",
   "execution_count": 2,
   "metadata": {},
   "outputs": [],
   "source": [
    "def metodo_potencia_inversa(A):\n",
    "    def multiplicar_matriz_vector(M, v):\n",
    "        # Multiplicar matriz por vecor\n",
    "        return [sum(M[i][j] * v[j] for j in range(len(v))) for i in range(len(M))]\n",
    "\n",
    "    def normalizar(v):\n",
    "        # Normalizar el vector\n",
    "        norma = sum(x**2 for x in v) ** 0.5\n",
    "        return [x / norma for x in v]\n",
    "\n",
    "    def sustitucion_hacia_atras(U, b):\n",
    "        # Resolver tringular superior\n",
    "        n = len(U)\n",
    "        x = [0] * n\n",
    "        for i in range(n - 1, -1, -1):\n",
    "            x[i] = (b[i] - sum(U[i][j] * x[j] for j in range(i + 1, n))) / U[i][i]\n",
    "        return x\n",
    "\n",
    "    def descomposicion_LU(M):\n",
    "        # Descomponer la matriz\n",
    "        n = len(M)\n",
    "        L = [[0 if i != j else 1 for j in range(n)] for i in range(n)]\n",
    "        U = [[0] * n for _ in range(n)]\n",
    "        \n",
    "        for i in range(n):\n",
    "            for j in range(i, n):\n",
    "                U[i][j] = M[i][j] - sum(L[i][k] * U[k][j] for k in range(i))\n",
    "            for j in range(i + 1, n):\n",
    "                L[j][i] = (M[j][i] - sum(L[j][k] * U[k][i] for k in range(i))) / U[i][i]\n",
    "        return L, U\n",
    "\n",
    "    def resolver_LU(L, U, b):\n",
    "        # Resolver por sustitució\n",
    "        n = len(L)\n",
    "        y = [0] * n\n",
    "        for i in range(n):\n",
    "            y[i] = (b[i] - sum(L[i][j] * y[j] for j in range(i)))\n",
    "        return sustitucion_hacia_atras(U, y)\n",
    "\n",
    "    n = len(A)\n",
    "    valores_propios = []\n",
    "    vectores_propios = []\n",
    "    L, U = descomposicion_LU(A) \n",
    "\n",
    "    for _ in range(n):  # Calcular cada vector y valor propio\n",
    "        x = [1] * n  # Vector inicial\n",
    "        lambda_anterior = 0\n",
    "        while True: \n",
    "            b = resolver_LU(L, U, x)\n",
    "            x = normalizar(b)\n",
    "            lambda_actual = sum(x[i] * sum(A[i][j] * x[j] for j in range(n)) for i in range(n))\n",
    "\n",
    "            if abs(lambda_actual - lambda_anterior) < 10e-7:\n",
    "                break\n",
    "            lambda_anterior = lambda_actual\n",
    "\n",
    "        valores_propios.append(lambda_actual)\n",
    "        vectores_propios.append(x)\n",
    "\n",
    "        A = [[A[i][j] - lambda_actual * x[i] * x[j] for j in range(n)] for i in range(n)]\n",
    "        L, U = descomposicion_LU(A) \n",
    "\n",
    "    return valores_propios, vectores_propios\n"
   ]
  },
  {
   "cell_type": "code",
   "execution_count": 3,
   "metadata": {},
   "outputs": [
    {
     "name": "stdout",
     "output_type": "stream",
     "text": [
      "Valores propios (potencia inversa):\n",
      "[12.785415694942772, -2.2898395557210427e-07, -9.445097303101466e-15]\n",
      "\n",
      "Vectores propios (potencia inversa):\n",
      "[-0.3669751869500998, 0.8652671019347979, 0.34152899506820117]\n",
      "[0.36707415609359645, -0.8652135661158056, -0.34155826580152404]\n",
      "[0.367074136380972, -0.865213571216847, -0.34155827406513445]\n"
     ]
    }
   ],
   "source": [
    "# Matriz ejemplo\n",
    "A = [[17, 1, 2],\n",
    "    [1, 14, -2],\n",
    "    [2, -2, 20]]\n",
    "\n",
    "valores_propios, vectores_propios = metodo_potencia_inversa(A)\n",
    "\n",
    "print(\"Valores propios (potencia inversa):\")\n",
    "print(valores_propios)\n",
    "print(\"\\nVectores propios (potencia inversa):\")\n",
    "for vec in vectores_propios:\n",
    "    print(vec)\n"
   ]
  },
  {
   "cell_type": "code",
   "execution_count": null,
   "metadata": {},
   "outputs": [
    {
     "name": "stdout",
     "output_type": "stream",
     "text": [
      "Valores propios (NumPy):\n",
      "[21.27015032 16.94443491 12.78541476]\n",
      "\n",
      "Vectores propios (NumPy):\n",
      "[-0.37763858  0.1969546  -0.90476405]\n",
      "[-0.84995438 -0.46141023  0.25431901]\n",
      "[ 0.36737809 -0.86504883 -0.34164873]\n"
     ]
    }
   ],
   "source": [
    "# Comparar los resultados con las funciones de numpy\n",
    "\n",
    "A = np.array([\n",
    "    [17, 1, 2],\n",
    "    [1, 14, -2],\n",
    "    [2, -2, 20]])\n",
    "\n",
    "valores_propios, vectores_propios = np.linalg.eig(A)\n",
    "\n",
    "print(\"Valores propios (NumPy):\")\n",
    "print(valores_propios)\n",
    "print(\"\\nVectores propios (NumPy):\")\n",
    "for vec in vectores_propios.T:\n",
    "    print(vec)"
   ]
  }
 ],
 "metadata": {
  "kernelspec": {
   "display_name": "Python 3",
   "language": "python",
   "name": "python3"
  },
  "language_info": {
   "codemirror_mode": {
    "name": "ipython",
    "version": 3
   },
   "file_extension": ".py",
   "mimetype": "text/x-python",
   "name": "python",
   "nbconvert_exporter": "python",
   "pygments_lexer": "ipython3",
   "version": "3.9.19"
  }
 },
 "nbformat": 4,
 "nbformat_minor": 2
}
