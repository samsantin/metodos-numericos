{
 "cells": [
  {
   "cell_type": "markdown",
   "metadata": {},
   "source": [
    "# Laboratorio 3-03\n",
    "\n",
    "Samantha Sánchez Tinoco"
   ]
  },
  {
   "cell_type": "code",
   "execution_count": 1,
   "metadata": {},
   "outputs": [],
   "source": [
    "import numpy as np\n",
    "\n",
    "# Sistema de ecuaciones\n",
    "def F(X):\n",
    "    x1, x2 = X\n",
    "    return np.array([\n",
    "        x1**2 + 4 * x2**2 - 4,\n",
    "        4 * x1**2 + x2**2 - 4\n",
    "    ])\n",
    "\n",
    "# Matriz Jacobiana\n",
    "def J(X):\n",
    "    x1, x2 = X\n",
    "    return np.array([\n",
    "        [2 * x1, 8 * x2],\n",
    "        [8 * x1, 2 * x2]\n",
    "    ])"
   ]
  },
  {
   "cell_type": "code",
   "execution_count": null,
   "metadata": {},
   "outputs": [],
   "source": [
    "# Método de Gauss-Jordan\n",
    "def metodo_gauss(a, b):\n",
    "    n = len(b)\n",
    "    a = [[float(num) for num in fila] for fila in a]\n",
    "    b = [float(num) for num in b]\n",
    "\n",
    "    # Hacer la reducción\n",
    "    for i in range(n):\n",
    "        if abs(a[i][i]) < 1e-12:\n",
    "            print(\"No hay solución única.\")\n",
    "            return None\n",
    "        \n",
    "        # Normalizar la fila del pivote\n",
    "        for j in range(i+1, n):\n",
    "            factor = a[j][i] / a[i][i]\n",
    "            for k in range(i, n):\n",
    "                a[j][k] -= factor * a[i][k]\n",
    "            b[j] -= factor * b[i]\n",
    "\n",
    "    # Sustitución hacia atrás para encontrar resultados\n",
    "    x = [0] * n\n",
    "    for i in range(n - 1, -1, -1):\n",
    "        suma = sum(a[i][j] * x[j] for j in range(i + 1, n))\n",
    "        x[i] = (b[i] - suma) / a[i][i]\n",
    "\n",
    "    return x\n"
   ]
  },
  {
   "cell_type": "code",
   "execution_count": null,
   "metadata": {},
   "outputs": [],
   "source": [
    "# Método de Newton\n",
    "def metodo_newton(aprox_inicial, tol=1e-6):\n",
    "    X = np.array(aprox_inicial, dtype=float)\n",
    "    iteracion = 0\n",
    "    while True:\n",
    "        F_val = F(X)\n",
    "        J_val = J(X)\n",
    "        # Resolver J * Y = -F usando Gauss\n",
    "        Y = metodo_gauss(J_val.tolist(), (-F_val).tolist())\n",
    "        if Y is None:\n",
    "            print(\"El sistema no tiene solución única.\")\n",
    "            return None, iteracion\n",
    "        # Actualizar X\n",
    "        X = X + Y\n",
    "        iteracion += 1\n",
    "        # Checar si converge\n",
    "        if np.linalg.norm(Y, ord=np.inf) < tol:\n",
    "            return X, iteracion  # Solución encontrada"
   ]
  },
  {
   "cell_type": "code",
   "execution_count": 6,
   "metadata": {},
   "outputs": [
    {
     "name": "stdout",
     "output_type": "stream",
     "text": [
      "Solución: [0.89442719 0.89442719]\n",
      "Iteraciones: 4\n"
     ]
    }
   ],
   "source": [
    "# Ejemplo de uso\n",
    "aprox_inicial = [1.0, 1.0]\n",
    "solucion, iteraciones = metodo_newton(aprox_inicial)\n",
    "if solucion is not None:\n",
    "    print(\"Solución:\", solucion)\n",
    "    print(\"Iteraciones:\", iteraciones)\n",
    "else:\n",
    "    print(\"No se encontró una solución.\")"
   ]
  }
 ],
 "metadata": {
  "kernelspec": {
   "display_name": "Python 3",
   "language": "python",
   "name": "python3"
  },
  "language_info": {
   "codemirror_mode": {
    "name": "ipython",
    "version": 3
   },
   "file_extension": ".py",
   "mimetype": "text/x-python",
   "name": "python",
   "nbconvert_exporter": "python",
   "pygments_lexer": "ipython3",
   "version": "3.9.19"
  }
 },
 "nbformat": 4,
 "nbformat_minor": 2
}
