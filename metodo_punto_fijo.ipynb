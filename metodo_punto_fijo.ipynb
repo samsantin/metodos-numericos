{
 "cells": [
  {
   "cell_type": "markdown",
   "metadata": {},
   "source": [
    "# Laboratorio 3-02\n",
    "\n",
    "Samantha Sánchez Tinoco"
   ]
  },
  {
   "cell_type": "code",
   "execution_count": 2,
   "metadata": {},
   "outputs": [],
   "source": [
    "import math"
   ]
  },
  {
   "cell_type": "code",
   "execution_count": 8,
   "metadata": {},
   "outputs": [],
   "source": [
    "# Definir las funciones de punto fijo para cada variable\n",
    "def g1(x2, x3):\n",
    "    return 1 / (6 * math.cos(x2 * x3))\n",
    "\n",
    "def g2(x1, x3):\n",
    "    valor = 81 * (x1 - 0.1)**2 - math.sin(x3) - 1.06\n",
    "    if valor < 0:\n",
    "        return 0  # o cualquier otro valor por defecto que consideres adecuado\n",
    "    return math.sqrt(valor)\n",
    "\n",
    "def g3(x1, x2):\n",
    "    return -(math.exp(-(x1 * x2)) + (10 * math.pi - 3) / 3) / 20\n"
   ]
  },
  {
   "cell_type": "code",
   "execution_count": 4,
   "metadata": {},
   "outputs": [],
   "source": [
    "# Método del punto fijo\n",
    "def punto_fijo(x1_inic, x2_inic, x3_inic, tol=1e-8):\n",
    "\n",
    "    # Inicializar las variables con los valores iniciales\n",
    "    x1, x2, x3 = x1_inic, x2_inic, x3_inic\n",
    "    iteraciones = 0  # Contador de iteraciones\n",
    "    \n",
    "    # Ciclo de iteración\n",
    "    while True: \n",
    "        # Llamar las funciones para calcular las nuevas estimaciones\n",
    "        x1_nuevo = g1(x2, x3)\n",
    "        x2_nuevo = g2(x1, x3)\n",
    "        x3_nuevo = g3(x1, x2)\n",
    "        \n",
    "        # Verificar si las diferencias están denntro de la tolerancia\n",
    "        if abs(x1_nuevo - x1) < tol and abs(x2_nuevo - x2) < tol and abs(x3_nuevo - x3) < tol:\n",
    "            return x1_nuevo, x2_nuevo, x3_nuevo, iteraciones\n",
    "        \n",
    "        # Actualizar las variables y incrementar las iteraciones +1\n",
    "        x1, x2, x3 = x1_nuevo, x2_nuevo, x3_nuevo\n",
    "        iteraciones += 1 \n",
    "\n"
   ]
  },
  {
   "cell_type": "code",
   "execution_count": 9,
   "metadata": {},
   "outputs": [
    {
     "name": "stdout",
     "output_type": "stream",
     "text": [
      "Solución encontrada: x1 = 0.16666666666666666, x2 = 0, x3 = -0.5235987755982989\n",
      "Número de iteraciones: 8\n"
     ]
    }
   ],
   "source": [
    "# Estimaciones iniciales dentro del dominio D\n",
    "x1_inic = 0.0  \n",
    "x2_inic = 1.0 \n",
    "x3_inic = 1.0 \n",
    "\n",
    "x1_sol, x2_sol, x3_sol, iteraciones = punto_fijo(x1_inic, x2_inic, x3_inic)\n",
    "\n",
    "\n",
    "print(f\"Solución encontrada: x1 = {x1_sol}, x2 = {x2_sol}, x3 = {x3_sol}\")\n",
    "print(f\"Número de iteraciones: {iteraciones}\")"
   ]
  }
 ],
 "metadata": {
  "kernelspec": {
   "display_name": "Python 3",
   "language": "python",
   "name": "python3"
  },
  "language_info": {
   "codemirror_mode": {
    "name": "ipython",
    "version": 3
   },
   "file_extension": ".py",
   "mimetype": "text/x-python",
   "name": "python",
   "nbconvert_exporter": "python",
   "pygments_lexer": "ipython3",
   "version": "3.9.19"
  }
 },
 "nbformat": 4,
 "nbformat_minor": 2
}
