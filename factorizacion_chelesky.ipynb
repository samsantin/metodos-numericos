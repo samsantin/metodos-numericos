{
 "cells": [
  {
   "cell_type": "markdown",
   "metadata": {},
   "source": [
    "# Laboratorio 4\n",
    "\n",
    "Samantha Sánchez Tinoco"
   ]
  },
  {
   "cell_type": "code",
   "execution_count": 1,
   "metadata": {},
   "outputs": [],
   "source": [
    "import numpy as np"
   ]
  },
  {
   "cell_type": "markdown",
   "metadata": {},
   "source": [
    "1. Factorización LDL<sup>t</sup>"
   ]
  },
  {
   "cell_type": "code",
   "execution_count": 3,
   "metadata": {},
   "outputs": [],
   "source": [
    "def factorizacion_LDL(A):\n",
    "    # Convertir A a un arreglo de punto flotante\n",
    "    A = np.array(A, dtype=float)\n",
    "    \n",
    "    # Inicializar L y D\n",
    "    n = len(A)\n",
    "    L = np.eye(n)  # L comienza como una matriz identidad\n",
    "    D = np.zeros(n) # D comienza con solamente ceros\n",
    "\n",
    "    # Algoritmo de factorización LDL^T\n",
    "    for i in range(n):\n",
    "        # Calcular el valor de los valores que van en D\n",
    "        D[i] = A[i, i] - sum(L[i, k]**2 * D[k] for k in range(i))\n",
    "        \n",
    "        if D[i] <= 0:\n",
    "            # Comprobar si la matriz es definida positiva de manera indirecta\n",
    "            # Todos los elementos de D deben de ser positivos\n",
    "            print(\"La factorización no es posible.\")\n",
    "            return None, None\n",
    "        \n",
    "        for j in range(i+1, n):\n",
    "            # Calcular los elementos de L\n",
    "            L[j, i] = (A[j, i] - sum(L[j, k] * L[i, k] * D[k] for k in range(i))) / D[i]\n",
    "\n",
    "    # Construir la matriz D diagonal\n",
    "    matriz_D = np.diag(D)\n",
    "    \n",
    "    return L,matriz_D"
   ]
  },
  {
   "cell_type": "code",
   "execution_count": 4,
   "metadata": {},
   "outputs": [
    {
     "name": "stdout",
     "output_type": "stream",
     "text": [
      "Matriz L:\n",
      "[[ 1.  0.  0.]\n",
      " [ 3.  1.  0.]\n",
      " [-4.  5.  1.]]\n",
      "\n",
      "Matriz D:\n",
      "[[4. 0. 0.]\n",
      " [0. 1. 0.]\n",
      " [0. 0. 9.]]\n"
     ]
    }
   ],
   "source": [
    "# Comprobar con una matriz definida positiva\n",
    "\n",
    "A = [[4, 12, -16],\n",
    "     [12, 37, -43],\n",
    "     [-16, -43, 98]]\n",
    "\n",
    "L, D = factorizacion_LDL(A)\n",
    "\n",
    "print(\"Matriz L:\")\n",
    "print(L)\n",
    "print(\"\\nMatriz D:\")\n",
    "print(D)"
   ]
  },
  {
   "cell_type": "markdown",
   "metadata": {},
   "source": [
    "2. Factorización LL<sup>t</sup> (Factorización de Cholesky)"
   ]
  },
  {
   "cell_type": "code",
   "execution_count": 6,
   "metadata": {},
   "outputs": [],
   "source": [
    "def factorizacion_cholesky(A):\n",
    "    # Convertir A a un arreglo de punto flotante\n",
    "    A = np.array(A, dtype=float)\n",
    "    n = len(A)\n",
    "    \n",
    "    # Inicializar L con ceros y de tamaño n x n\n",
    "    L = np.zeros((n, n))\n",
    "\n",
    "    # Algoritmo de factorización de Cholesky\n",
    "    for i in range(n):\n",
    "        for j in range(i+1): \n",
    "            if i == j:\n",
    "                # Calcular los elementos de la diagonal\n",
    "                sum_diagonal = sum(L[i, k]**2 for k in range(i))  # Suma de cuadrados de elementos antes de la fila i\n",
    "                L[i, j] = np.sqrt(A[i, i] - sum_diagonal) \n",
    "                \n",
    "                # Verificar si el valor en la diagonal es positivo\n",
    "                if L[i, j] <= 0:\n",
    "                    print(\"La factorización no posible.\")\n",
    "                    return None\n",
    "            else:\n",
    "                # Calcular los elementos que no están en la diagonal\n",
    "                sum_no_diagonal = sum(L[i, k] * L[j, k] for k in range(j))  # Suma de productos previos de las filas i y j\n",
    "                L[i, j] = (A[i, j] - sum_no_diagonal) / L[j, j]\n",
    "\n",
    "    return L"
   ]
  },
  {
   "cell_type": "code",
   "execution_count": 7,
   "metadata": {},
   "outputs": [
    {
     "name": "stdout",
     "output_type": "stream",
     "text": [
      "Matriz L:\n",
      "[[ 2.  0.  0.]\n",
      " [ 6.  1.  0.]\n",
      " [-8.  5.  3.]]\n"
     ]
    }
   ],
   "source": [
    "# Comprobar el funcionamiento del código\n",
    "\n",
    "A = [[4, 12, -16], \n",
    "     [12, 37, -43],\n",
    "     [-16, -43, 98]]\n",
    "\n",
    "L = factorizacion_cholesky(A)\n",
    "\n",
    "print(\"Matriz L:\")\n",
    "print(L)"
   ]
  }
 ],
 "metadata": {
  "kernelspec": {
   "display_name": "Python 3",
   "language": "python",
   "name": "python3"
  },
  "language_info": {
   "codemirror_mode": {
    "name": "ipython",
    "version": 3
   },
   "file_extension": ".py",
   "mimetype": "text/x-python",
   "name": "python",
   "nbconvert_exporter": "python",
   "pygments_lexer": "ipython3",
   "version": "3.9.19"
  }
 },
 "nbformat": 4,
 "nbformat_minor": 2
}
