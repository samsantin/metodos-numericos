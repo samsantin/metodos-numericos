{
 "cells": [
  {
   "cell_type": "markdown",
   "metadata": {},
   "source": [
    "# Laboratorio 2-06\n",
    "\n",
    "Samantha Sánchez Tinoco\n",
    "\n",
    "\n",
    "## Método Gauss-Seidel"
   ]
  },
  {
   "cell_type": "code",
   "execution_count": 5,
   "metadata": {},
   "outputs": [],
   "source": [
    "import numpy as np"
   ]
  },
  {
   "cell_type": "code",
   "execution_count": 1,
   "metadata": {},
   "outputs": [],
   "source": [
    "# Verificar si el sistema converge con el radio espectral\n",
    "def radio_espectral_gauss_seidel(matriz_coeficientes):\n",
    "    n = len(matriz_coeficientes)\n",
    "    \n",
    "    # Inicializar D, L y U\n",
    "    D = [[0.0 if i != j else matriz_coeficientes[i][i] for j in range(n)] for i in range(n)]\n",
    "    L = [[0.0 if j >= i else matriz_coeficientes[i][j] for j in range(n)] for i in range(n)]\n",
    "    U = [[0.0 if j <= i else matriz_coeficientes[i][j] for j in range(n)] for i in range(n)]\n",
    "    \n",
    "    # Matriz de iteración de Gauss-Seidel: (D - L)^-1 * U\n",
    "    DL_inv = np.linalg.inv([[D[i][i] - L[i][j] for j in range(n)] for i in range(n)])\n",
    "    matriz_iteracion = [[sum(DL_inv[i][k] * U[k][j] for k in range(n)) for j in range(n)] for i in range(n)]\n",
    "    \n",
    "    # Calcular los autovalores de la matriz de iteración\n",
    "    autovalores = np.linalg.eigvals(matriz_iteracion)\n",
    "    \n",
    "    # Radio espectral: valor absoluto del mayor autovalor\n",
    "    radio_espectral = max(abs(val) for val in autovalores)\n",
    "    \n",
    "    return radio_espectral"
   ]
  },
  {
   "cell_type": "code",
   "execution_count": 3,
   "metadata": {},
   "outputs": [],
   "source": [
    "def gauss_seidel(matriz_coeficientes, vector_independientes):\n",
    "    \n",
    "    # Verificar si el sistema converge\n",
    "    radio_espectral = radio_espectral_gauss_seidel(matriz_coeficientes)\n",
    "    if radio_espectral >= 1:\n",
    "        return \"El radio espectral es mayor o igual a 1, el sistema no converge\", 0\n",
    "\n",
    "    # Continuar si converge\n",
    "    n = len(vector_independientes)\n",
    "    x = [0.0 for _ in range(n)]  # Inicializar todas las variables en cero\n",
    "    contador_iteraciones = 0\n",
    "\n",
    "    while True:\n",
    "        x_nuevo = x[:]  # Copiar el los valores actuales para compararlos\n",
    "        #Hacer los cálculos de las soluciones\n",
    "        for i in range(n):\n",
    "            suma_Ax = 0.0\n",
    "            for j in range(n):\n",
    "                if j != i:\n",
    "                    suma_Ax += matriz_coeficientes[i][j] * x_nuevo[j]  # Usar el nuevo valor actualizado\n",
    "            x_nuevo[i] = (vector_independientes[i] - suma_Ax) / matriz_coeficientes[i][i]\n",
    "\n",
    "        # Calcular la tolerancia usando la norma infinita\n",
    "        norma_infinito_diferencia = max(abs(x_nuevo[i] - x[i]) for i in range(n))  # Norma del actual menos el anterior\n",
    "        norma_infinito_x_nuevo = max(abs(x_nuevo[i]) for i in range(n))  # Norma del actual\n",
    "        \n",
    "        tolerancia = norma_infinito_diferencia / norma_infinito_x_nuevo  # Nueva tolerancia\n",
    "\n",
    "        if tolerancia < 1e-6: \n",
    "            return x_nuevo, contador_iteraciones  # Solución encontrada\n",
    "\n",
    "        # Actualizar el los valores y sumar una iteración\n",
    "        x = x_nuevo[:]\n",
    "        contador_iteraciones += 1"
   ]
  },
  {
   "cell_type": "code",
   "execution_count": 6,
   "metadata": {},
   "outputs": [
    {
     "name": "stdout",
     "output_type": "stream",
     "text": [
      "Solución: [0.4022997560084193, 2.908045672069797, 4.172413642980446]\n",
      "Número de iteraciones: 9\n"
     ]
    }
   ],
   "source": [
    "# Matriz ejemplo (la misma usada en Jacobi)\n",
    "matriz_coeficientes = [\n",
    "    [5, 2, 1],\n",
    "    [3, 6, 2],\n",
    "    [1, 1, 4]\n",
    "]\n",
    "\n",
    "# Vector b\n",
    "vector_independientes = [12, 27, 20]\n",
    "\n",
    "# Llamar a la función \n",
    "solucion, iteraciones = gauss_seidel(matriz_coeficientes, vector_independientes)\n",
    "\n",
    "# Imprimir el resultado\n",
    "print(\"Solución:\", solucion)\n",
    "print(\"Número de iteraciones:\", iteraciones)"
   ]
  }
 ],
 "metadata": {
  "kernelspec": {
   "display_name": "Python 3",
   "language": "python",
   "name": "python3"
  },
  "language_info": {
   "codemirror_mode": {
    "name": "ipython",
    "version": 3
   },
   "file_extension": ".py",
   "mimetype": "text/x-python",
   "name": "python",
   "nbconvert_exporter": "python",
   "pygments_lexer": "ipython3",
   "version": "3.9.19"
  }
 },
 "nbformat": 4,
 "nbformat_minor": 2
}
