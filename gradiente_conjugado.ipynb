{
 "cells": [
  {
   "cell_type": "markdown",
   "metadata": {},
   "source": [
    "# Laboratorio 2-08\n",
    "\n",
    "Samantha Sánchez Tinoco"
   ]
  },
  {
   "cell_type": "code",
   "execution_count": 1,
   "metadata": {},
   "outputs": [],
   "source": [
    "import numpy as np"
   ]
  },
  {
   "cell_type": "code",
   "execution_count": 2,
   "metadata": {},
   "outputs": [],
   "source": [
    "def gradiente_conjugado(A, b, x_inicial, tol=1e-8):\n",
    "    \n",
    "    x = x_inicial\n",
    "    # Calcular el residuo inicial r = b - Ax\n",
    "    residuo = b - np.dot(A, x)\n",
    "    # Comenzar con el residuo que hayamos obtenido\n",
    "    direccion = residuo\n",
    "    # Calcular el producto r.T * r\n",
    "    residuo_ant = np.dot(residuo.T, residuo)\n",
    "    \n",
    "     # Contador de iteraciones\n",
    "    iteraciones = 0\n",
    "    \n",
    "    while True:\n",
    "        A_direccion = np.dot(A, direccion)\n",
    "        alfa = residuo_ant / np.dot(direccion.T, A_direccion)\n",
    "         # Actualizar la solución x\n",
    "        x = x + alfa * direccion\n",
    "        # Calcular el nuevo residuo \n",
    "        residuo = residuo - alfa * A_direccion\n",
    "        residuo_nuevo = np.dot(residuo.T, residuo)\n",
    "        \n",
    "         # Verificar si es menor que la tolerancia\n",
    "        if np.sqrt(residuo_nuevo) < tol:\n",
    "            return x, iteraciones + 1  # Solución y número de iteraciones\n",
    "        \n",
    "        direccion = residuo + (residuo_nuevo / residuo_ant) * direccion\n",
    "        residuo_ant = residuo_nuevo\n",
    "        iteraciones += 1"
   ]
  },
  {
   "cell_type": "code",
   "execution_count": 4,
   "metadata": {},
   "outputs": [
    {
     "name": "stdout",
     "output_type": "stream",
     "text": [
      "Solución: [1.09302326 2.30232558 0.1627907 ]\n",
      "Iteraciones: 3\n"
     ]
    }
   ],
   "source": [
    "# Ejemplo de uso\n",
    "A = np.array([[4, 1, 2], \n",
    "              [1, 3, 0], \n",
    "              [2, 0, 5]])\n",
    "b = np.array([7, 8, 3])\n",
    "x_inicial = np.zeros_like(b)\n",
    "\n",
    "solucion, iteraciones = gradiente_conjugado(A, b, x_inicial, tol=1e-8)\n",
    "\n",
    "print(f\"Solución: {solucion}\")\n",
    "print(f\"Iteraciones: {iteraciones}\")"
   ]
  }
 ],
 "metadata": {
  "kernelspec": {
   "display_name": "Python 3",
   "language": "python",
   "name": "python3"
  },
  "language_info": {
   "codemirror_mode": {
    "name": "ipython",
    "version": 3
   },
   "file_extension": ".py",
   "mimetype": "text/x-python",
   "name": "python",
   "nbconvert_exporter": "python",
   "pygments_lexer": "ipython3",
   "version": "3.9.19"
  }
 },
 "nbformat": 4,
 "nbformat_minor": 2
}
