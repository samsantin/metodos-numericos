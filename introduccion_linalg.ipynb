{
 "cells": [
  {
   "cell_type": "markdown",
   "metadata": {},
   "source": [
    "# Laboratorio 1-02\n",
    "\n",
    "Samantha Sánchez Tinoco"
   ]
  },
  {
   "cell_type": "markdown",
   "metadata": {},
   "source": [
    "1. Calcule la inversa de la matriz A empleando la función inv de la biblioteca linalg y guarde el resultado en la variable B.\n",
    "\n",
    "![Matriz A](Labo1-02.png)"
   ]
  },
  {
   "cell_type": "code",
   "execution_count": 4,
   "metadata": {},
   "outputs": [
    {
     "data": {
      "text/plain": [
       "array([[ 1.32,  3.25,  2.77],\n",
       "       [-3.57,  2.12,  3.26],\n",
       "       [-9.87,  3.33,  2.15]])"
      ]
     },
     "execution_count": 4,
     "metadata": {},
     "output_type": "execute_result"
    }
   ],
   "source": [
    "import numpy as np\n",
    "import numpy.linalg as la\n",
    "\n",
    "#Declarar la matriz A\n",
    "A=np.array([[1.32,3.25,2.77],[-3.57,2.12,3.26],[-9.87,3.33,2.15]])\n",
    "A"
   ]
  },
  {
   "cell_type": "code",
   "execution_count": 5,
   "metadata": {},
   "outputs": [
    {
     "data": {
      "text/plain": [
       "array([[ 0.10010838, -0.03555248, -0.07506936],\n",
       "       [ 0.38945748, -0.47970094,  0.22559435],\n",
       "       [-0.14363894,  0.57976799, -0.22891339]])"
      ]
     },
     "execution_count": 5,
     "metadata": {},
     "output_type": "execute_result"
    }
   ],
   "source": [
    "#Calcular la inversa de A\n",
    "B = la.inv(A)\n",
    "B"
   ]
  },
  {
   "cell_type": "markdown",
   "metadata": {},
   "source": [
    "2. Multiplique la matriz por su inversa con la instrucción A@B. El símbolo @ indica la multiplicación matricial."
   ]
  },
  {
   "cell_type": "code",
   "execution_count": 6,
   "metadata": {},
   "outputs": [
    {
     "data": {
      "text/plain": [
       "array([[ 1.00000000e+00, -4.29919568e-17,  5.67183920e-17],\n",
       "       [ 3.89451548e-17,  1.00000000e+00,  8.26576256e-17],\n",
       "       [-1.05203495e-16, -7.08482088e-18,  1.00000000e+00]])"
      ]
     },
     "execution_count": 6,
     "metadata": {},
     "output_type": "execute_result"
    }
   ],
   "source": [
    "#Multiplicar A por B\n",
    "A@B"
   ]
  },
  {
   "cell_type": "markdown",
   "metadata": {},
   "source": [
    "3. Verifique el resultado de multiplicar AA<sup>-1</sup> empleando cinco matrices distintas. Utilice números no enteros para las componentes de la matriz"
   ]
  },
  {
   "cell_type": "code",
   "execution_count": 11,
   "metadata": {},
   "outputs": [
    {
     "name": "stdout",
     "output_type": "stream",
     "text": [
      "Matriz A1:\n",
      "[[2.5 2.4]\n",
      " [4.1 4.8]]\n",
      "\n",
      "A1A1^-1:\n",
      "[[ 1.00000000e+00  6.07744308e-16]\n",
      " [-3.73363891e-16  1.00000000e+00]]\n",
      "\n",
      "Matriz A2:\n",
      "[[1.2 1.9 4.6]\n",
      " [3.5 4.1 5.8]\n",
      " [5.8 6.1 8.4]]\n",
      "\n",
      "A2A2^-1:\n",
      "[[ 1.00000000e+00 -2.45816439e-16  3.43881786e-16]\n",
      " [ 7.60698694e-17  1.00000000e+00  1.17114162e-15]\n",
      " [-1.52139739e-16  8.00927951e-16  1.00000000e+00]]\n",
      "\n",
      "Matriz A3:\n",
      "[[3.4 1.3]\n",
      " [4.3 2.9]]\n",
      "\n",
      "A3A3^-1:\n",
      "[[ 1.00000000e+00 -1.64479411e-16]\n",
      " [-2.21420592e-16  1.00000000e+00]]\n",
      "\n",
      "Matriz A4:\n",
      "[[2.6 3.2 3.6]\n",
      " [5.3 5.2 6.9]\n",
      " [8.7 8.5 9.7]]\n",
      "\n",
      "A4A4^-1:\n",
      "[[ 1.00000000e+00  3.58245822e-16 -2.77056016e-16]\n",
      " [ 4.50670540e-16  1.00000000e+00 -5.35121901e-17]\n",
      " [ 5.45418300e-16  5.75724800e-16  1.00000000e+00]]\n",
      "\n",
      "Matriz A5:\n",
      "[[1.9 1.4]\n",
      " [3.6 3.9]]\n",
      "\n",
      "A5A5^-1:\n",
      "[[1.00000000e+00 1.28635967e-16]\n",
      " [1.79322099e-16 1.00000000e+00]]\n",
      "\n"
     ]
    }
   ],
   "source": [
    "# Definir cinco matrices distintas con componentes no enteras\n",
    "matrices = [\n",
    "    np.array([[2.5, 2.4], [4.1, 4.8]]),\n",
    "    np.array([[1.2, 1.9, 4.6], [3.5, 4.1, 5.8], [5.8, 6.1, 8.4]]),\n",
    "    np.array([[3.4, 1.3], [4.3, 2.9]]),\n",
    "    np.array([[2.6, 3.2, 3.6], [5.3, 5.2, 6.9], [8.7, 8.5, 9.7]]),\n",
    "    np.array([[1.9, 1.4], [3.6, 3.9]])\n",
    "]\n",
    "\n",
    "# Calcular la inversa de cada matriz y hacer la multiplicación\n",
    "for i, A in enumerate(matrices):\n",
    "    A_inv = np.linalg.inv(A)\n",
    "    I = np.dot(A, A_inv)\n",
    "    \n",
    "    # Imprimir los resultados\n",
    "    print(f\"Matriz A{i+1}:\")\n",
    "    print(A)\n",
    "    print()\n",
    "    print(f\"A{i+1}A{i+1}^-1:\")\n",
    "    print(I)\n",
    "    print()"
   ]
  }
 ],
 "metadata": {
  "kernelspec": {
   "display_name": "Python 3",
   "language": "python",
   "name": "python3"
  },
  "language_info": {
   "codemirror_mode": {
    "name": "ipython",
    "version": 3
   },
   "file_extension": ".py",
   "mimetype": "text/x-python",
   "name": "python",
   "nbconvert_exporter": "python",
   "pygments_lexer": "ipython3",
   "version": "3.11.5"
  }
 },
 "nbformat": 4,
 "nbformat_minor": 2
}
