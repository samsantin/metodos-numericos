{
 "cells": [
  {
   "cell_type": "markdown",
   "metadata": {},
   "source": [
    "# Laboratorio 2-02\n",
    "\n",
    "Samantha Sánchez Tinoco"
   ]
  },
  {
   "cell_type": "code",
   "execution_count": 1,
   "metadata": {},
   "outputs": [],
   "source": [
    "import numpy as np"
   ]
  },
  {
   "cell_type": "code",
   "execution_count": 9,
   "metadata": {},
   "outputs": [],
   "source": [
    "def gauss_jordan(a, b):\n",
    "    a = [[float(num) for num in fila] for fila in a]  # Asegurarse de que los cálculos se hagan en punto flotante\n",
    "    b = [float(num) for num in b]\n",
    "    n = len(b)  \n",
    "\n",
    "    # Crear la matriz aumentada\n",
    "    matriz_aumentada = [a[i] + [b[i]] for i in range(n)]\n",
    "\n",
    "    # Encontrar el valor absoluto máximo de cada fila\n",
    "    escalamiento = [max(abs(num) for num in fila[:-1]) for fila in matriz_aumentada]\n",
    "\n",
    "    # Método de Gauss-Jordan con pivoteo parcial escalado\n",
    "    for i in range(n):\n",
    "        # Encontrar la fila con el mayor valor relativo en la columna\n",
    "        fila_max = i\n",
    "        abs_fila = abs(matriz_aumentada[i][i]/escalamiento[i])\n",
    "        for j in range(i+1,n):\n",
    "            fila_sig = abs(matriz_aumentada[j][i]/escalamiento[j])\n",
    "\n",
    "            if fila_sig > abs_fila:\n",
    "                abs_fila = fila_sig\n",
    "                fila_max = j\n",
    "        \n",
    "        # Intercambiar la fila con la que tiene el pivote escalado más grande\n",
    "        if i != fila_max:\n",
    "            matriz_aumentada[i],matriz_aumentada[fila_max] = matriz_aumentada[fila_max], matriz_aumentada[i]\n",
    "            escalamiento[i], escalamiento[fila_max] = escalamiento[fila_max], escalamiento[i]\n",
    "\n",
    "        # Revisar hay un pivote que usar\n",
    "        if abs(matriz_aumentada[i][i]) < 1e-12:\n",
    "            print(\"No hay solución única.\")\n",
    "            return None\n",
    "        \n",
    "        # Normalizar la fila del pivote\n",
    "        privote = matriz_aumentada[i][i]\n",
    "        for k in range(i,n+1):\n",
    "            matriz_aumentada[i][k]/=privote\n",
    "\n",
    "        # Hacer ceros las otras posiciones de la columna del pivote\n",
    "        for j in range(n):\n",
    "            if i != j:\n",
    "                factor = matriz_aumentada[j][i]\n",
    "                for k in range(i,n+1):\n",
    "                    matriz_aumentada[j][k] -= factor * matriz_aumentada[i][k]\n",
    "\n",
    "        # Forzar ceros en las posiciones donde deben estar ceros\n",
    "        for j in range(n):\n",
    "            for k in range(n+1):\n",
    "                if abs(matriz_aumentada[j][k]) < 1e-10: #Es casi cero porque ahí debe de ir un cero\n",
    "                    matriz_aumentada[j][k] = 0.0\n",
    "\n",
    "    # Solución\n",
    "    x = [matriz_aumentada[i][-1] for i in range(n)]\n",
    "    return x"
   ]
  },
  {
   "cell_type": "code",
   "execution_count": 10,
   "metadata": {},
   "outputs": [
    {
     "name": "stdout",
     "output_type": "stream",
     "text": [
      "Solución para n=5: [1.5384615384615383, 0.2977667493796526, 0.3647642679900745, 0.36724565756823824, 0.44416873449131516]\n"
     ]
    }
   ],
   "source": [
    "# Ejemplo con n = 5\n",
    "\n",
    "a_5 = [[2, 1, -1, 3, 2],\n",
    "     [4, -2, 1, -1, 1],\n",
    "     [1, 5, -3, 2, 3],\n",
    "     [3, 2, -5, 5, 4],\n",
    "     [2, 3, 2, -1, -3]]\n",
    "\n",
    "b_5 = [5, 6, 4, 7, 3]\n",
    "\n",
    "print(\"Solución para n=5:\", gauss_jordan(a_5, b_5))"
   ]
  },
  {
   "cell_type": "code",
   "execution_count": 11,
   "metadata": {},
   "outputs": [
    {
     "name": "stdout",
     "output_type": "stream",
     "text": [
      "Solución para n=5 con la función de numpy: [1.53846154 0.29776675 0.36476427 0.36724566 0.44416873]\n"
     ]
    }
   ],
   "source": [
    "# Comprobación con la función de numpy\n",
    "\n",
    "try:\n",
    "    print(\"Solución para n=5 con la función de numpy:\", np.linalg.solve(a_5, b_5))\n",
    "except np.linalg.LinAlgError as e:\n",
    "    print(\"Error:\", e)"
   ]
  },
  {
   "cell_type": "code",
   "execution_count": 12,
   "metadata": {},
   "outputs": [
    {
     "name": "stdout",
     "output_type": "stream",
     "text": [
      "Solución para n=10: [-0.30175834577159755, -0.851832975354036, 0.9905529870035292, -1.0723360879536932, 1.5426480760129575, 0.45873530161273024, -0.033983763515234244, 2.2434744621209357, 0.38452437292948494, 5.639975972914922]\n"
     ]
    }
   ],
   "source": [
    "# Ejemplo con n = 10\n",
    "a_10 = [[1, -1, 2, 3, 0, -1, 4, 2, 3, 1],\n",
    "        [2, 3, 1, 4, -1, 2, -1, 0, 2, 2],\n",
    "        [-1, 2, 3, -1, 2, 0, 1, -2, 3, 1],\n",
    "        [4, 2, 0, -1, 1, 3, 2, -1, -2, 0],\n",
    "        [1, 1, 1, 1, 1, 1, 1, 1, 1, 1],\n",
    "        [0, 2, 0, 1, 2, 1, 3, 4, 0, -1],\n",
    "        [2, 0, -1, 2, -3, 1, 0, 1, 1, 2],\n",
    "        [-1, 3, 2, 0, 1, 2, -2, 0, 1, -1],\n",
    "        [1, 1, 1, -1, 1, 0, 2, 2, 2, -1],\n",
    "        [2, -1, 0, 1, 2, 3, 1, -1, 0, 1]]\n",
    "\n",
    "b_10 = [10, 5, 8, -2, 9, 4, 6, -3, 2, 7]\n",
    "\n",
    "print(\"Solución para n=10:\", gauss_jordan(a_10, b_10))"
   ]
  },
  {
   "cell_type": "code",
   "execution_count": 13,
   "metadata": {},
   "outputs": [
    {
     "name": "stdout",
     "output_type": "stream",
     "text": [
      "Solución para n=10 con la función de numpy: [-0.30175835 -0.85183298  0.99055299 -1.07233609  1.54264808  0.4587353\n",
      " -0.03398376  2.24347446  0.38452437  5.63997597]\n"
     ]
    }
   ],
   "source": [
    "# Comprobación con la función de numpy\n",
    "\n",
    "try:\n",
    "    print(\"Solución para n=10 con la función de numpy:\", np.linalg.solve(a_10, b_10))\n",
    "except np.linalg.LinAlgError as e:\n",
    "    print(\"Error:\", e)"
   ]
  }
 ],
 "metadata": {
  "kernelspec": {
   "display_name": "Python 3",
   "language": "python",
   "name": "python3"
  },
  "language_info": {
   "codemirror_mode": {
    "name": "ipython",
    "version": 3
   },
   "file_extension": ".py",
   "mimetype": "text/x-python",
   "name": "python",
   "nbconvert_exporter": "python",
   "pygments_lexer": "ipython3",
   "version": "3.9.19"
  }
 },
 "nbformat": 4,
 "nbformat_minor": 2
}
