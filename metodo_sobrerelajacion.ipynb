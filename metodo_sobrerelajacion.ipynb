{
 "cells": [
  {
   "cell_type": "markdown",
   "metadata": {},
   "source": [
    "# Lab 2-07\n",
    "\n",
    "Samantha Sánchez Tinoco"
   ]
  },
  {
   "cell_type": "code",
   "execution_count": 1,
   "metadata": {},
   "outputs": [],
   "source": [
    "import numpy as np"
   ]
  },
  {
   "cell_type": "code",
   "execution_count": 3,
   "metadata": {},
   "outputs": [],
   "source": [
    "# Calcular el radio espectral\n",
    "def radio_espectral_gauss_seidel(matriz_coeficientes):\n",
    "    n = len(matriz_coeficientes)\n",
    "    \n",
    "    # Inicializar D, L y U\n",
    "    D = [[0.0 if i != j else matriz_coeficientes[i][i] for j in range(n)] for i in range(n)]\n",
    "    L = [[0.0 if j >= i else matriz_coeficientes[i][j] for j in range(n)] for i in range(n)]\n",
    "    U = [[0.0 if j <= i else matriz_coeficientes[i][j] for j in range(n)] for i in range(n)]\n",
    "    \n",
    "    # Matriz de iteración de Gauss-Seidel: (D - L)^-1 * U\n",
    "    DL_inv = np.linalg.inv([[D[i][i] - L[i][j] for j in range(n)] for i in range(n)])\n",
    "    matriz_iteracion = [[sum(DL_inv[i][k] * U[k][j] for k in range(n)) for j in range(n)] for i in range(n)]\n",
    "    \n",
    "    # Calcular los valores propios de la matriz de iteración\n",
    "    autovalores = np.linalg.eigvals(matriz_iteracion)\n",
    "    \n",
    "    # Radio espectral: valor absoluto del mayor autovalor\n",
    "    radio_espectral = max(abs(val) for val in autovalores)\n",
    "    \n",
    "    return radio_espectral"
   ]
  },
  {
   "cell_type": "code",
   "execution_count": 6,
   "metadata": {},
   "outputs": [],
   "source": [
    "def srs(matriz_coeficientes, vector_independientes, tolerancia=1e-6):\n",
    "\n",
    "    # Verificar si el sistema converge usando el radio espectral\n",
    "    radio_espectral = radio_espectral_gauss_seidel(matriz_coeficientes)\n",
    "    if radio_espectral >= 1:\n",
    "        return \"El radio espectral es mayor o igual a 1, el sistema no converge\", 0\n",
    "\n",
    "    # Calcular el valor de omega usando la fórmula\n",
    "    omega = 2 / (1 + (1 - radio_espectral**2)**0.5)\n",
    "\n",
    "    # Continuar si converge\n",
    "    n = len(vector_independientes)\n",
    "    x = [0.0 for _ in range(n)]  # Inicializar las variables en cero\n",
    "    contador_iteraciones = 0\n",
    "\n",
    "    while True:\n",
    "        x_nuevo = x[:]  # Copiar los valores actuales\n",
    "        # Hacer los cálculos de las soluciones\n",
    "        for i in range(n):\n",
    "            suma_Ax = 0.0\n",
    "            for j in range(n):\n",
    "                if j != i:\n",
    "                    suma_Ax += matriz_coeficientes[i][j] * x_nuevo[j]  # Usar el nuevo valor actualizado\n",
    "            # Aplicar la relajación\n",
    "            x_nuevo[i] = (1 - omega) * x[i] + omega * (vector_independientes[i] - suma_Ax) / matriz_coeficientes[i][i]\n",
    "\n",
    "        # Calcular la norma infinita de la diferencia y la nueva tolerancia\n",
    "        norma_infinito_diferencia = max(abs(x_nuevo[i] - x[i]) for i in range(n))\n",
    "        norma_infinito_x_nuevo = max(abs(x_nuevo[i]) for i in range(n))\n",
    "\n",
    "        tolerancia_actual = norma_infinito_diferencia / norma_infinito_x_nuevo  # Nueva tolerancia\n",
    "\n",
    "        if tolerancia_actual < tolerancia: \n",
    "            return x_nuevo, contador_iteraciones  # Solución encontrada\n",
    "\n",
    "        # Actualizar los valores y contar una iteración más\n",
    "        x = x_nuevo[:]\n",
    "        contador_iteraciones += 1\n"
   ]
  },
  {
   "cell_type": "code",
   "execution_count": 7,
   "metadata": {},
   "outputs": [
    {
     "name": "stdout",
     "output_type": "stream",
     "text": [
      "Solución: [np.float64(0.40229780962105754), np.float64(2.9080453514376767), np.float64(4.172414124884641)]\n",
      "Número de iteraciones: 18\n"
     ]
    }
   ],
   "source": [
    "# Matriz ejemplo\n",
    "matriz_coeficientes = [\n",
    "    [5, 2, 1],\n",
    "    [3, 6, 2],\n",
    "    [1, 1, 4]\n",
    "]\n",
    "\n",
    "# Vector b\n",
    "vector_independientes = [12, 27, 20]\n",
    "\n",
    "# Llamar a la función \n",
    "solucion, iteraciones = srs(matriz_coeficientes, vector_independientes)\n",
    "\n",
    "# Imprimir el resultado\n",
    "print(\"Solución:\", solucion)\n",
    "print(\"Número de iteraciones:\", iteraciones)"
   ]
  }
 ],
 "metadata": {
  "kernelspec": {
   "display_name": "Python 3",
   "language": "python",
   "name": "python3"
  },
  "language_info": {
   "codemirror_mode": {
    "name": "ipython",
    "version": 3
   },
   "file_extension": ".py",
   "mimetype": "text/x-python",
   "name": "python",
   "nbconvert_exporter": "python",
   "pygments_lexer": "ipython3",
   "version": "undefined.undefined.undefined"
  }
 },
 "nbformat": 4,
 "nbformat_minor": 2
}
