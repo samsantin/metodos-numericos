{
 "cells": [
  {
   "cell_type": "markdown",
   "metadata": {},
   "source": [
    "# Laboratorio 4-01: Método de la potencia\n",
    "\n",
    "Samantha Sánchez Tinoco"
   ]
  },
  {
   "cell_type": "code",
   "execution_count": 1,
   "metadata": {},
   "outputs": [],
   "source": [
    "import numpy as np"
   ]
  },
  {
   "cell_type": "code",
   "execution_count": null,
   "metadata": {},
   "outputs": [],
   "source": [
    "def metodo_potencia(A,):\n",
    "    \n",
    "    n = len(A)\n",
    "    \n",
    "    # Vector inicial aleatorio\n",
    "    x = [1] * n\n",
    "    \n",
    "    # Normalización \n",
    "    norma_x = sum(x[i]**2 for i in range(n))**0.5\n",
    "    x = [xi / norma_x for xi in x]\n",
    "    \n",
    "    mu_anterior = 0\n",
    "    iteraciones = 0\n",
    "    while True:\n",
    "        # Multiplicación Ax\n",
    "        x_nuevo = [sum(A[i][j] * x[j] for j in range(n)) for i in range(n)]\n",
    "        \n",
    "        # Normalización del nuevo vector\n",
    "        norma_x_nuevo = sum(x_nuevo[i]**2 for i in range(n))**0.5\n",
    "        x_nuevo = [xi / norma_x_nuevo for xi in x_nuevo]\n",
    "        \n",
    "        # Cálculo del valor propio\n",
    "        mu = sum(x_nuevo[i] * sum(A[i][j] * x_nuevo[j] for j in range(n)) for i in range(n))\n",
    "        \n",
    "        # Verificación de la convergencia\n",
    "        if abs(mu - mu_anterior) < 1e-7:\n",
    "            return mu, x_nuevo, iteraciones + 1\n",
    "        \n",
    "        # Actualizamos las variables\n",
    "        x = x_nuevo\n",
    "        mu_anterior = mu\n",
    "        iteraciones += 1"
   ]
  },
  {
   "cell_type": "code",
   "execution_count": 4,
   "metadata": {},
   "outputs": [
    {
     "name": "stdout",
     "output_type": "stream",
     "text": [
      "Valor propio: 3.8793851131697923\n",
      "Vector propio: [0.16138582861844064, 0.3031689615952429, 0.4082482606449974, 0.46408679438951467, 0.46408679438951467, 0.40824826064499736, 0.30316896159524287, 0.16138582861844067]\n",
      "Iteraciones realizadas: 26\n"
     ]
    }
   ],
   "source": [
    "# Probar el programa\n",
    "\n",
    "A = [[2, 1, 0, 0, 0, 0, 0, 0],\n",
    "    [1, 2, 1, 0, 0, 0, 0, 0],\n",
    "    [0, 1, 2, 1, 0, 0, 0, 0],\n",
    "    [0, 0, 1, 2, 1, 0, 0, 0],\n",
    "    [0, 0, 0, 1, 2, 1, 0, 0],\n",
    "    [0, 0, 0, 0, 1, 2, 1, 0],\n",
    "    [0, 0, 0, 0, 0, 1, 2, 1],\n",
    "    [0, 0, 0, 0, 0, 0, 1, 2]]\n",
    "\n",
    "\n",
    "valor_propio, vector_propio, iteraciones = metodo_potencia(A)\n",
    "\n",
    "print(\"Valor propio:\", valor_propio)\n",
    "print(\"Vector propio:\", vector_propio)\n",
    "print(\"Iteraciones realizadas:\", iteraciones)"
   ]
  },
  {
   "cell_type": "code",
   "execution_count": 6,
   "metadata": {},
   "outputs": [
    {
     "name": "stdout",
     "output_type": "stream",
     "text": [
      "\n",
      "Valor propio: 3.879385241571809\n",
      "Vector propio: [-0.16122984 -0.30301299 -0.40824829 -0.46424283 -0.46424283 -0.40824829\n",
      " -0.30301299 -0.16122984]\n"
     ]
    }
   ],
   "source": [
    "# Comparar con libreria de numpy\n",
    "\n",
    "valores_propios, vectores_propios = np.linalg.eig(A)\n",
    "indice_mayor = np.argmax(np.abs(valores_propios))\n",
    "print(\"\\nValor propio:\", valores_propios[indice_mayor])\n",
    "print(\"Vector propio:\", vectores_propios[:, indice_mayor])"
   ]
  }
 ],
 "metadata": {
  "kernelspec": {
   "display_name": "Python 3",
   "language": "python",
   "name": "python3"
  },
  "language_info": {
   "codemirror_mode": {
    "name": "ipython",
    "version": 3
   },
   "file_extension": ".py",
   "mimetype": "text/x-python",
   "name": "python",
   "nbconvert_exporter": "python",
   "pygments_lexer": "ipython3",
   "version": "3.9.19"
  }
 },
 "nbformat": 4,
 "nbformat_minor": 2
}
