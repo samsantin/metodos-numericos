{
 "cells": [
  {
   "cell_type": "markdown",
   "metadata": {},
   "source": [
    "# Laboratorio 2-03: Factorización LU\n",
    "\n",
    "Samantha Sánchez Tinoco"
   ]
  },
  {
   "cell_type": "code",
   "execution_count": 3,
   "metadata": {},
   "outputs": [],
   "source": [
    "# Función para hacer la factorización LU\n",
    "def factorizacion_LU(A):\n",
    "    n = len(A) \n",
    "    \n",
    "    # Hacer las matrices L y U del tamaño de A\n",
    "    L = [[0.0] * n for _ in range(n)] \n",
    "    U = [[0.0] * n for _ in range(n)]\n",
    "\n",
    "    for i in range(n):\n",
    "        # Hacer la matriz U\n",
    "        # Calcular los elementos de la matriz U para la fila i\n",
    "        for j in range(i, n):\n",
    "            suma = sum(L[i][k] * U[k][j] for k in range(i))\n",
    "            U[i][j] = A[i][j] - suma\n",
    "\n",
    "        # Verificar si el pivote en U es cero o muy cerca de cero porque puede no dar exacto\n",
    "        if abs(U[i][i]) < 1e-12: \n",
    "            # Si no se cumple esto entonces no se puede resolver de esta manera\n",
    "            print(\"La factorización LU no es posible.\")\n",
    "            return None, None\n",
    "\n",
    "        # Hacer la matriz L\n",
    "        for j in range(i, n):\n",
    "            if i == j:\n",
    "                L[i][i] = 1.0  # La diagonal de L siempre es 1\n",
    "            else:\n",
    "                # Calcular los elementos que deben de ir en la parte inferior\n",
    "                suma = sum(L[j][k] * U[k][i] for k in range(i))\n",
    "                L[j][i] = (A[j][i] - suma) / U[i][i]\n",
    "                \n",
    "    # Regresar las matrices que se hicieron\n",
    "    return L, U\n"
   ]
  },
  {
   "cell_type": "markdown",
   "metadata": {},
   "source": [
    "Las instrucciones no decían que se hiceran también las sustituciones pero decidí hacerlo para que no quedara incompleto el ejercicio"
   ]
  },
  {
   "cell_type": "code",
   "execution_count": 4,
   "metadata": {},
   "outputs": [],
   "source": [
    "# Función para hacer las sustituciones y encontrar los valores de las variables\n",
    "\n",
    "def sustituciones_LU(L, U, b):\n",
    "    # L y U son del mismo tamaño así que se toma cualquiera\n",
    "    n = len(L)\n",
    "\n",
    "    # Resolver Ly = b\n",
    "    y = [0] * n # Para saber cuantas incógnitas tenemos\n",
    "    for i in range(n):\n",
    "        suma = sum(L[i][j] * y[j] for j in range(i))\n",
    "        y[i] = (b[i] - suma)\n",
    "\n",
    "    # Resolver Ux = y\n",
    "    x = [0] * n\n",
    "    for i in range(n-1, -1, -1):\n",
    "        suma = sum(U[i][j] * x[j] for j in range(i+1, n))\n",
    "        x[i] = (y[i] - suma) / U[i][i]\n",
    "    \n",
    "    # Regresar los resultados finales\n",
    "    return x"
   ]
  },
  {
   "cell_type": "markdown",
   "metadata": {},
   "source": [
    "Ejemplo de uso con la segunda matriz de la tarea 2-02"
   ]
  },
  {
   "cell_type": "code",
   "execution_count": 7,
   "metadata": {},
   "outputs": [
    {
     "name": "stdout",
     "output_type": "stream",
     "text": [
      "Matriz U:\n",
      "[3, 1, 2]\n",
      "[0.0, 1.0, 0.0]\n",
      "[0.0, 0.0, 3.0]\n",
      "\n",
      "Matriz L:\n",
      "[1.0, 0.0, 0.0]\n",
      "[2.0, 1.0, 0.0]\n",
      "[1.0, 0.0, 1.0]\n"
     ]
    }
   ],
   "source": [
    "# Factorización\n",
    "\n",
    "A = [[3, 1, 2],\n",
    "     [6, 3, 4],\n",
    "     [3, 1, 5]]\n",
    "\n",
    "b = [0, 1, 3]\n",
    "\n",
    "L, U = factorizacion_LU(A)\n",
    "\n",
    "print(\"Matriz U:\")\n",
    "for fila in U:\n",
    "    print(fila)\n",
    "    \n",
    "    \n",
    "print(\"\\nMatriz L:\")\n",
    "for fila in L:\n",
    "    print(fila)"
   ]
  },
  {
   "cell_type": "code",
   "execution_count": 9,
   "metadata": {},
   "outputs": [
    {
     "name": "stdout",
     "output_type": "stream",
     "text": [
      "\n",
      "Solución del sistema:\n",
      "[-1.0, 1.0, 1.0]\n"
     ]
    }
   ],
   "source": [
    "# Sustituciones y resultado\n",
    "\n",
    "x = sustituciones_LU(L, U, b)\n",
    "\n",
    "print(\"\\nSolución del sistema:\")\n",
    "print(x)"
   ]
  },
  {
   "cell_type": "markdown",
   "metadata": {},
   "source": [
    "Los resultados coinciden con los obtenidos en el ejercicio de la tarea 2-02"
   ]
  }
 ],
 "metadata": {
  "kernelspec": {
   "display_name": "Python 3",
   "language": "python",
   "name": "python3"
  },
  "language_info": {
   "codemirror_mode": {
    "name": "ipython",
    "version": 3
   },
   "file_extension": ".py",
   "mimetype": "text/x-python",
   "name": "python",
   "nbconvert_exporter": "python",
   "pygments_lexer": "ipython3",
   "version": "3.9.19"
  }
 },
 "nbformat": 4,
 "nbformat_minor": 2
}
