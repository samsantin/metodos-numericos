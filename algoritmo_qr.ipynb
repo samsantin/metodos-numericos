{
 "cells": [
  {
   "cell_type": "markdown",
   "metadata": {},
   "source": [
    "# Laboratorio 4-03: Algoritmo QR\n",
    "\n",
    "Samantha Sánchez Tinoco"
   ]
  },
  {
   "cell_type": "code",
   "execution_count": 1,
   "metadata": {},
   "outputs": [],
   "source": [
    "import numpy as np"
   ]
  },
  {
   "cell_type": "code",
   "execution_count": 5,
   "metadata": {},
   "outputs": [],
   "source": [
    "def gram_schmidt(A):\n",
    "    \n",
    "    n = A.shape[0]\n",
    "    Q = np.zeros_like(A, dtype=float)\n",
    "    R = np.zeros((n, n), dtype=float)\n",
    "    \n",
    "    for j in range(n):\n",
    "        v = A[:, j].astype(float)  # Asegurar tipo float\n",
    "        for i in range(j):\n",
    "            R[i, j] = np.dot(Q[:, i], A[:, j])\n",
    "            v -= R[i, j] * Q[:, i]\n",
    "        R[j, j] = np.linalg.norm(v)\n",
    "        Q[:, j] = v / R[j, j]\n",
    "    \n",
    "    return Q, R"
   ]
  },
  {
   "cell_type": "code",
   "execution_count": null,
   "metadata": {},
   "outputs": [],
   "source": [
    "def algoritmo_qr_simple(matriz, tolerancia=1e-6):\n",
    "\n",
    "    n = matriz.shape[0]\n",
    "    acumulador_vectores = np.eye(n, dtype=float)\n",
    "\n",
    "    while True:\n",
    "        # Hacer QR usando Gram-Schmidt\n",
    "        Q, R = gram_schmidt(matriz)\n",
    "        matriz_siguiente = R @ Q\n",
    "        \n",
    "        # Vctores propios\n",
    "        acumulador_vectores = acumulador_vectores @ Q\n",
    "        \n",
    "        # Convergencia\n",
    "        if np.allclose(matriz, matriz_siguiente, atol=tolerancia):\n",
    "            break\n",
    "        matriz = matriz_siguiente\n",
    "\n",
    "    # Valores propios en la diagonal de la matriz \n",
    "    valores_propios = np.diag(matriz)\n",
    "    vectores_propios = acumulador_vectores\n",
    "    return valores_propios, vectores_propios\n"
   ]
  },
  {
   "cell_type": "code",
   "execution_count": null,
   "metadata": {},
   "outputs": [
    {
     "name": "stdout",
     "output_type": "stream",
     "text": [
      "Valores propios:\n",
      "[14.83555948  7.34315248 -5.19461582  0.01590386]\n",
      "\n",
      "Vectores propios:\n",
      "[[ 0.72978427 -0.26092224  0.27964626 -0.56668551]\n",
      " [ 0.42808536  0.46723501  0.50547483  0.58560189]\n",
      " [ 0.17174283  0.79372769 -0.45299251 -0.36782949]\n",
      " [ 0.5046407  -0.28914942 -0.67903679  0.44792792]]\n"
     ]
    }
   ],
   "source": [
    "A = np.array([\n",
    "    [8, 3, 1, 7],\n",
    "    [3, 3, 5, 4],\n",
    "    [1, 5, 4, -2],\n",
    "    [7, 4, -2, 2]\n",
    "], dtype=float) \n",
    "\n",
    "valores_propios, vectores_propios = algoritmo_qr_simple(A)\n",
    "\n",
    "print(\"Valores propios:\")\n",
    "print(valores_propios)\n",
    "print(\"\\nVectores propios:\")\n",
    "print(vectores_propios)"
   ]
  }
 ],
 "metadata": {
  "kernelspec": {
   "display_name": "Python 3",
   "language": "python",
   "name": "python3"
  },
  "language_info": {
   "codemirror_mode": {
    "name": "ipython",
    "version": 3
   },
   "file_extension": ".py",
   "mimetype": "text/x-python",
   "name": "python",
   "nbconvert_exporter": "python",
   "pygments_lexer": "ipython3",
   "version": "3.9.19"
  }
 },
 "nbformat": 4,
 "nbformat_minor": 2
}
