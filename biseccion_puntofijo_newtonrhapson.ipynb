{
 "cells": [
  {
   "cell_type": "markdown",
   "metadata": {},
   "source": [
    "# Laboratorio 3-01\n",
    "\n",
    "Samantha Sánchez Tinoco"
   ]
  },
  {
   "cell_type": "markdown",
   "metadata": {},
   "source": [
    "### Método de Bisección"
   ]
  },
  {
   "cell_type": "code",
   "execution_count": 3,
   "metadata": {},
   "outputs": [],
   "source": [
    "# Función de Bisección\n",
    "def biseccion(f, a, b):\n",
    "    \n",
    "    #Revisar que se pueda hacer el método\n",
    "    if f(a) * f(b) >= 0:\n",
    "        return \"El método de bisección se puede aplicar.\"\n",
    "    \n",
    "    iteraciones = 0\n",
    "    # Seguir mientras que el resultado sea diferente por más de la tolerancia\n",
    "    while (b - a) / 2 > 1e-6:\n",
    "        # Encontrar el nuevo punto\n",
    "        c = (a + b) / 2\n",
    "        if f(c) == 0:\n",
    "            break\n",
    "        # Checar el lado que c reemplazará\n",
    "        elif f(a) * f(c) < 0:\n",
    "            b = c\n",
    "        else:\n",
    "            a = c\n",
    "        # Sumar una iteración al contador\n",
    "        iteraciones += 1\n",
    "    \n",
    "    return c, iteraciones\n"
   ]
  },
  {
   "cell_type": "code",
   "execution_count": 8,
   "metadata": {},
   "outputs": [
    {
     "name": "stdout",
     "output_type": "stream",
     "text": [
      "Método de Bisección: \n",
      "Raíz = 1.5213794708251953 Iteraciones = 19\n"
     ]
    }
   ],
   "source": [
    "# Ejemplo con f(x) = x^3 - x - 2 en el intervalo [1, 2]\n",
    "f_bis = lambda x: x**3 - x - 2\n",
    "root_bis, iteraciones_bis = biseccion(f_bis, 1, 2)\n",
    "print(\"Método de Bisección: \\nRaíz =\", root_bis, \"Iteraciones =\", iteraciones_bis)"
   ]
  },
  {
   "cell_type": "markdown",
   "metadata": {},
   "source": [
    " ### Método de Punto Fijo"
   ]
  },
  {
   "cell_type": "code",
   "execution_count": 5,
   "metadata": {},
   "outputs": [],
   "source": [
    "def punto_fijo(g, x0):\n",
    "    tol = 1e-6 \n",
    "    iteraciones = 0\n",
    "    \n",
    "    while True:\n",
    "        x1 = g(x0)  # Calcular el siguiente valor de x\n",
    "        if abs(x1 - x0) < tol:  # Ir verificando la convergencia\n",
    "            return x1, iteraciones\n",
    "        x0 = x1  # Actualizar el valor de x para la siguiente iteración\n",
    "        iteraciones += 1"
   ]
  },
  {
   "cell_type": "code",
   "execution_count": 7,
   "metadata": {},
   "outputs": [
    {
     "name": "stdout",
     "output_type": "stream",
     "text": [
      "Método de Punto Fijo: \n",
      "Raíz = 1.999999046326593 Iteraciones = 19\n"
     ]
    }
   ],
   "source": [
    "# Ejemplo de uso con la función f(x) = x^2 - 3x + 2 = 0, con g(x) = (3x - 2) / x\n",
    "g_pf = lambda x: (3 * x - 2) / x\n",
    "\n",
    "root_pf, iteraciones_pf = punto_fijo(g_pf, 1.5)\n",
    "print(\"Método de Punto Fijo: \\nRaíz =\", root_pf, \"Iteraciones =\", iteraciones_pf)"
   ]
  },
  {
   "cell_type": "markdown",
   "metadata": {},
   "source": [
    "### Método de Newton Raphson"
   ]
  },
  {
   "cell_type": "code",
   "execution_count": 11,
   "metadata": {},
   "outputs": [],
   "source": [
    "def newton(f, df, x0):\n",
    "    tol = 1e-6\n",
    "    iteraciones = 0\n",
    "    \n",
    "    while True:\n",
    "        x1 = x0 - f(x0) / df(x0)  # Calcular el siguiente valor de x\n",
    "        if abs(x1 - x0) < tol:  # Checar si los cambios en los valores son menores a la tolerancia\n",
    "            return x1, iteraciones\n",
    "        x0 = x1  # Actualizar el valor de x para la siguiente iteración\n",
    "        iteraciones += 1"
   ]
  },
  {
   "cell_type": "code",
   "execution_count": 14,
   "metadata": {},
   "outputs": [
    {
     "name": "stdout",
     "output_type": "stream",
     "text": [
      "Método de Newton-Raphson: \n",
      "Raíz = 1.4142135623730951 Iteraciones = 4\n"
     ]
    }
   ],
   "source": [
    "# Ejemplo de uso con f(x) = x^2 - 2, con f'(x) = 2 * x\n",
    "f_newton = lambda x: x**2 - 2\n",
    "df_newton = lambda x: 2 * x\n",
    "\n",
    "root_newton, iteraciones_newton = newton(f_newton, df_newton, 1)\n",
    "print(\"Método de Newton-Raphson: \\nRaíz =\", root_newton, \"Iteraciones =\", iteraciones_newton)"
   ]
  }
 ],
 "metadata": {
  "kernelspec": {
   "display_name": "Python 3",
   "language": "python",
   "name": "python3"
  },
  "language_info": {
   "codemirror_mode": {
    "name": "ipython",
    "version": 3
   },
   "file_extension": ".py",
   "mimetype": "text/x-python",
   "name": "python",
   "nbconvert_exporter": "python",
   "pygments_lexer": "ipython3",
   "version": "3.9.19"
  }
 },
 "nbformat": 4,
 "nbformat_minor": 2
}
