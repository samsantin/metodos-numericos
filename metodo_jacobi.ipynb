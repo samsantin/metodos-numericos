{
 "cells": [
  {
   "cell_type": "markdown",
   "metadata": {},
   "source": [
    "# Laboratorio 2-06\n",
    "\n",
    "Samantha Sánchez Tinoco"
   ]
  },
  {
   "cell_type": "markdown",
   "metadata": {},
   "source": [
    "## Método Jacobi"
   ]
  },
  {
   "cell_type": "code",
   "execution_count": 1,
   "metadata": {},
   "outputs": [],
   "source": [
    "import numpy as np"
   ]
  },
  {
   "cell_type": "code",
   "execution_count": 2,
   "metadata": {},
   "outputs": [],
   "source": [
    "#Función para primero revisar si el sistema converge con ayuda del radio espectral\n",
    "\n",
    "def radio_espectral_jacobi(matriz_coeficientes):\n",
    "    n = len(matriz_coeficientes)\n",
    "    \n",
    "    # Inicializar D, L y U\n",
    "    D = [[0.0 if i != j else matriz_coeficientes[i][i] for j in range(n)] for i in range(n)]\n",
    "    L = [[0.0 if j >= i else matriz_coeficientes[i][j] for j in range(n)] for i in range(n)]\n",
    "    U = [[0.0 if j <= i else matriz_coeficientes[i][j] for j in range(n)] for i in range(n)]\n",
    "    \n",
    "    # Generar la matriz de iteración de Jacobi: D^-1 * (L + U)\n",
    "    matriz_iteracion = [[(L[i][j] + U[i][j]) / D[i][i] for j in range(n)] for i in range(n)]\n",
    "    \n",
    "    # Calcular los autovalores de la matriz de iteración\n",
    "    autovalores = np.linalg.eigvals(matriz_iteracion)\n",
    "    \n",
    "    # Radio espectral: valor absoluto del mayor autovalor\n",
    "    radio_espectral = max(abs(val) for val in autovalores)\n",
    "    \n",
    "    return radio_espectral\n"
   ]
  },
  {
   "cell_type": "code",
   "execution_count": 5,
   "metadata": {},
   "outputs": [],
   "source": [
    "def jacobi(matriz_coeficientes, vector_independientes):\n",
    "    \n",
    "    # Verificar si el sistema converge\n",
    "    radio_espectral = radio_espectral_jacobi(matriz_coeficientes)\n",
    "    if radio_espectral >= 1:\n",
    "        return \"El radio espectral es mayor o igual a 1, el sistema no converge\", 0\n",
    "\n",
    "    # Continuar resolviendo si converge\n",
    "    n = len(vector_independientes)\n",
    "    x = [0.0 for _ in range(n)]  # Valores inciales\n",
    "    x_nuevo = [0.0 for _ in range(n)]  # Nuevos valores en cada iteración\n",
    "    contador_iteraciones = 0\n",
    "\n",
    "    # Ciclo que hace las operaciones\n",
    "    while True:\n",
    "        for i in range(n):\n",
    "            suma_Ax = 0.0\n",
    "            for j in range(n):\n",
    "                if j != i:\n",
    "                    suma_Ax += matriz_coeficientes[i][j] * x[j]\n",
    "            x_nuevo[i] = (vector_independientes[i] - suma_Ax) / matriz_coeficientes[i][i]\n",
    "\n",
    "        # Calcular la tolerancia usando la norma infinita\n",
    "        norma_infinito_diferencia = max(abs(x_nuevo[i] - x[i]) for i in range(n))  # Iteración actual menos la anterior\n",
    "        norma_infinito_x_nuevo = max(abs(x_nuevo[i]) for i in range(n))  # Iteración actual\n",
    "        \n",
    "        tolerancia = norma_infinito_diferencia / norma_infinito_x_nuevo  # División de la torleracia\n",
    "\n",
    "        if tolerancia < 1e-6:\n",
    "            return x_nuevo, contador_iteraciones  # Solución encontrada\n",
    "\n",
    "        # Actualizar los valores y aumentar 1 iteración\n",
    "        x = x_nuevo[:]\n",
    "        contador_iteraciones += 1\n"
   ]
  },
  {
   "cell_type": "code",
   "execution_count": 6,
   "metadata": {},
   "outputs": [
    {
     "name": "stdout",
     "output_type": "stream",
     "text": [
      "Solución: [0.4022978344303141, 2.908044754919633, 4.172412932774399]\n",
      "Número de iteraciones: 33\n"
     ]
    }
   ],
   "source": [
    "# Matriz ejemplo \n",
    "matriz_coeficientes = [\n",
    "    [5, 2, 1],\n",
    "    [3, 6, 2],\n",
    "    [1, 1, 4]\n",
    "]\n",
    "\n",
    "# Vector b\n",
    "vector_independientes = [12, 27, 20]\n",
    "\n",
    "# Llamar a la función Jacobi\n",
    "solucion, iteraciones = jacobi(matriz_coeficientes, vector_independientes)\n",
    "\n",
    "# Imprimir el resultado\n",
    "print(\"Solución:\", solucion)\n",
    "print(\"Número de iteraciones:\", iteraciones)"
   ]
  }
 ],
 "metadata": {
  "kernelspec": {
   "display_name": "Python 3",
   "language": "python",
   "name": "python3"
  },
  "language_info": {
   "codemirror_mode": {
    "name": "ipython",
    "version": 3
   },
   "file_extension": ".py",
   "mimetype": "text/x-python",
   "name": "python",
   "nbconvert_exporter": "python",
   "pygments_lexer": "ipython3",
   "version": "3.9.19"
  }
 },
 "nbformat": 4,
 "nbformat_minor": 2
}
