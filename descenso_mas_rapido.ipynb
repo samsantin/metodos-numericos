{
 "cells": [
  {
   "cell_type": "markdown",
   "metadata": {},
   "source": [
    "# Laboratorio 3-04: Método del descenso más rápido\n",
    "\n",
    "Samantha Sánchez Tinoco"
   ]
  },
  {
   "cell_type": "code",
   "execution_count": 1,
   "metadata": {},
   "outputs": [],
   "source": [
    "import numpy as np"
   ]
  },
  {
   "cell_type": "code",
   "execution_count": 3,
   "metadata": {},
   "outputs": [],
   "source": [
    "# Método Gauss Jordan para resolver el sistema de alfas\n",
    "def metodo_gauss(a, b):\n",
    "    n = len(b)\n",
    "    a = [[float(num) for num in fila] for fila in a]\n",
    "    b = [float(num) for num in b]\n",
    "\n",
    "    # Reducción de Gauss\n",
    "    for i in range(n):\n",
    "        if abs(a[i][i]) < 1e-12:\n",
    "            print(\"No hay solución única.\")\n",
    "            return None\n",
    "        \n",
    "        # Normalización de la fila pivote\n",
    "        for j in range(i + 1, n):\n",
    "            factor = a[j][i] / a[i][i]\n",
    "            for k in range(i, n):\n",
    "                a[j][k] -= factor * a[i][k]\n",
    "            b[j] -= factor * b[i]\n",
    "\n",
    "    # Sustitución hacia atrás para resultados\n",
    "    x = [0] * n\n",
    "    for i in range(n - 1, -1, -1):\n",
    "        suma = sum(a[i][j] * x[j] for j in range(i + 1, n))\n",
    "        x[i] = (b[i] - suma) / a[i][i]\n",
    "\n",
    "    return x"
   ]
  },
  {
   "cell_type": "code",
   "execution_count": 4,
   "metadata": {},
   "outputs": [],
   "source": [
    "# Función h(alfa) para evaluar el sistema de ecuaciones\n",
    "def h_alfa(x_k, alfa, Ucm):\n",
    "    x_temp = x_k - alfa * Ucm\n",
    "    x1, x2, x3 = x_temp\n",
    "    f1 = 3 * x1 - 81 * (x2 * x3) - 1 / 2\n",
    "    f2 = x1 ** 2 - 81 * (x2 + 0.1) ** 2 + np.sin(x3) + 1.06\n",
    "    f3 = np.exp(-x1 * x2) + 20 * x3 + (10 * np.pi - 3) / 3\n",
    "    return f1**2 + f2**2 + f3**2"
   ]
  },
  {
   "cell_type": "code",
   "execution_count": 5,
   "metadata": {},
   "outputs": [],
   "source": [
    "# Valores del X2 calculados en la tarea 3-03\n",
    "x_k = np.array([0.01125, -0.01606, -0.52388], dtype=float)\n",
    "tol = 1e-4\n",
    "iter_count = 0"
   ]
  },
  {
   "cell_type": "code",
   "execution_count": 8,
   "metadata": {},
   "outputs": [
    {
     "name": "stdout",
     "output_type": "stream",
     "text": [
      "Convergencia en 4 iteraciones.\n",
      "Solución: [ 0.01130507 -0.0160643  -0.519442  ]\n"
     ]
    }
   ],
   "source": [
    "while True:\n",
    "    iter_count += 1\n",
    "\n",
    "    # Sistema de ecuaciones y F(x)\n",
    "    x1, x2, x3 = x_k\n",
    "    f1 = 3 * x1 - np.cos(x2 * x3) - 1 / 2\n",
    "    f2 = x1 ** 2 - 81 * (x2 + 0.1) ** 2 + np.sin(x3) + 1.06\n",
    "    f3 = np.exp(-x1 * x2) + 20 * x3 - (10 * np.pi - 3) / 3\n",
    "    Fx = np.array([f1, f2, f3])\n",
    "\n",
    "    # Jacobiano J(F)\n",
    "    JF = np.array([\n",
    "    [3, x3 * np.sin(x2 * x3), x2 * np.sin(x2 * x3)],\n",
    "    [2 * x1, -162 * (x2 + 0.1), np.cos(x3)],\n",
    "    [-x2 * np.exp(-x1 * x2), -x1 * np.exp(-x1 * x2), 20]\n",
    "    ])\n",
    "\n",
    "    # Gradiente de g(x) = 2J(F)F y su norma\n",
    "    grad_g = 2 * JF.T @ Fx\n",
    "    norm_grad_g = np.linalg.norm(grad_g)\n",
    "\n",
    "    # Ucm\n",
    "    Ucm = grad_g / norm_grad_g\n",
    "\n",
    "    # Valores iniciales de alfas\n",
    "    alfa3 = 0\n",
    "    incremento = 1\n",
    "    while True:\n",
    "        alfa1 = alfa3 - incremento\n",
    "        alfa2 = (alfa1 + alfa3) / 2\n",
    "\n",
    "        # Evaluación de h(alfa) para cada alfa\n",
    "        h_alfa1 = h_alfa(x_k, alfa1, Ucm)\n",
    "        h_alfa2 = h_alfa(x_k, alfa2, Ucm)\n",
    "        h_alfa3 = h_alfa(x_k, alfa3, Ucm)\n",
    "\n",
    "        # Comprobación de condición para h(alfa)\n",
    "        if h_alfa3 < h_alfa1:\n",
    "            break\n",
    "        alfa3 += incremento\n",
    "\n",
    "    # Sistema de ecuaciones de alfas\n",
    "    A = [\n",
    "        [alfa1 ** 2, alfa1, 1],\n",
    "        [alfa2 ** 2, alfa2, 1],\n",
    "        [alfa3 ** 2, alfa3, 1]\n",
    "    ]\n",
    "    B = [h_alfa1, h_alfa2, h_alfa3]\n",
    "\n",
    "    # Resolver a, b y c usando el método de Gauss\n",
    "    coeficientes = metodo_gauss(A, B)\n",
    "    if coeficientes is None:\n",
    "        print(\"No se pudo encontrar una solución.\")\n",
    "        break\n",
    "\n",
    "    a, b, c = coeficientes\n",
    "\n",
    "    # Cálculo del alfa óptimo\n",
    "    alfa = -b / (2 * a)\n",
    "\n",
    "    # Actualización de x_k+1\n",
    "    x_k1 = x_k - alfa * Ucm\n",
    "\n",
    "    # Comprobar la tolerancia ||x(k+1) - x(k)|| < tol\n",
    "    if np.linalg.norm(x_k1 - x_k) < tol:\n",
    "        print(f\"Convergencia en {iter_count} iteraciones.\")\n",
    "        print(\"Solución:\", x_k1)\n",
    "        break\n",
    "\n",
    "    # Actualización para la siguiente iteración\n",
    "    x_k = x_k1"
   ]
  }
 ],
 "metadata": {
  "kernelspec": {
   "display_name": "Python 3",
   "language": "python",
   "name": "python3"
  },
  "language_info": {
   "codemirror_mode": {
    "name": "ipython",
    "version": 3
   },
   "file_extension": ".py",
   "mimetype": "text/x-python",
   "name": "python",
   "nbconvert_exporter": "python",
   "pygments_lexer": "ipython3",
   "version": "3.9.19"
  }
 },
 "nbformat": 4,
 "nbformat_minor": 2
}
